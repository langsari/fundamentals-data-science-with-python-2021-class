{
 "cells": [
  {
   "cell_type": "markdown",
   "metadata": {},
   "source": [
    "# Data Science Project Structure and Life Cycle"
   ]
  },
  {
   "cell_type": "markdown",
   "metadata": {},
   "source": [
    "- Data Science Project Structure \n",
    "- Data Science Life Cycle and processes"
   ]
  },
  {
   "cell_type": "markdown",
   "metadata": {},
   "source": [
    "## Data Science Project Structure"
   ]
  },
  {
   "cell_type": "markdown",
   "metadata": {},
   "source": [
    "### Data science project template\n",
    "\n",
    "https://github.com/makcedward/ds_project_template"
   ]
  },
  {
   "cell_type": "markdown",
   "metadata": {},
   "source": [
    "#### Experiment Quran Dataset\n",
    "\n",
    "Check this of my experiment Quran Dataset using Data science project template https://github.com/langsari/quran-dataset"
   ]
  },
  {
   "cell_type": "markdown",
   "metadata": {},
   "source": [
    "<img src=\"images/ds-project-structure.png\">"
   ]
  },
  {
   "cell_type": "markdown",
   "metadata": {},
   "source": [
    "### Cookiecutter Data Science\n",
    "\n",
    "A logical, reasonably standardized, but flexible project structure for doing and sharing data science work.\n",
    "\n",
    "https://drivendata.github.io/cookiecutter-data-science/"
   ]
  },
  {
   "cell_type": "markdown",
   "metadata": {},
   "source": [
    "install\n",
    "\n",
    "`pip install cookiecutter`"
   ]
  },
  {
   "cell_type": "markdown",
   "metadata": {},
   "source": [
    "Starting a new project\n",
    "\n",
    "`cookiecutter https://github.com/drivendata/cookiecutter-data-science`"
   ]
  },
  {
   "cell_type": "markdown",
   "metadata": {},
   "source": [
    "<img src=\"images/cookiecutter-data-science-project-template.png\"> "
   ]
  },
  {
   "cell_type": "markdown",
   "metadata": {},
   "source": [
    "## Data Science Life Cycle and Processes"
   ]
  },
  {
   "cell_type": "markdown",
   "metadata": {},
   "source": [
    "This process refer to CRISP-DM process\n",
    "\n",
    "More detial \n",
    "1. https://en.wikipedia.org/wiki/Cross-industry_standard_process_for_data_mining\n",
    "2. https://www.datascience-pm.com/crisp-dm-2/\n",
    "3. https://datacubeth.ai/crisp-dm/"
   ]
  },
  {
   "cell_type": "markdown",
   "metadata": {},
   "source": [
    "### Step 1: Business Understanding\n",
    "<strong>Target</strong>: What does the business need?<br>\n",
    "<strong>Phase</strong>: \n",
    "- Determine business objectives; \n",
    "- assess situation; \n",
    "- determine data mining goals; \n",
    "- produce project plan\n",
    "\n",
    "<strong>Resonsible</strong>: Product Owner, Business Analyst. Data Expert"
   ]
  },
  {
   "cell_type": "markdown",
   "metadata": {},
   "source": [
    "### Step 2: Data Understanding\n",
    "<strong>Target</strong>: What data do we have / need? Is it clean?<br>\n",
    "<strong>Phases</strong>: \n",
    "- collect initial data; \n",
    "- describe data; \n",
    "- explore data; \n",
    "- verify data quality<br>\n",
    "\n",
    "<strong>Resonsible</strong>: Data Engineer, Data Scientist, Data Analyst"
   ]
  },
  {
   "cell_type": "markdown",
   "metadata": {},
   "source": [
    "### Step 3: Data Preparation\n",
    "<strong>Target</strong>: How do we organize the data for modeling?<br>\n",
    "<strong>Phases</strong>: Generally, the most time-consuming phase, \n",
    "- select data; \n",
    "- clean data; \n",
    "- construct data;\n",
    "- integrate data; \n",
    "- format data\n",
    "\n",
    "<strong>Resonsible</strong>: Data Engineer, Data Analyst"
   ]
  },
  {
   "cell_type": "markdown",
   "metadata": {},
   "source": [
    "### Step 4: Modeling Select\n",
    "<strong>Target</strong>: What modeling techniques should we apply? <br>\n",
    "<strong>Phases</strong>: \n",
    "- Modeling technique; \n",
    "- generate test design; \n",
    "- build model; \n",
    "- assess model\n",
    "\n",
    "<strong>Resonsible</strong>: Data Scientist"
   ]
  },
  {
   "cell_type": "markdown",
   "metadata": {},
   "source": [
    "### Step 5: Evaluation\n",
    "<strong>Target</strong>: Which model best meets the business objectives?<br>\n",
    "\n",
    "<strong>Phases</strong>: \n",
    "- Evaluate results;\n",
    "- review process;\n",
    "- determine next steps\n",
    "\n",
    "<strong>Resonsible</strong>: Business Analyst, Data Scientist"
   ]
  },
  {
   "cell_type": "markdown",
   "metadata": {},
   "source": [
    "### Step 6: Deployment\n",
    "<strong>Target</strong>: How do stakeholders access the results?<br>\n",
    "<strong>Phases</strong>: \n",
    "- Plan deployment; \n",
    "- plan monitoring and maintenance; \n",
    "- produce final report; \n",
    "- review project\n",
    "\n",
    "<strong>Resonsible</strong>: Software Developer, Business Analyst"
   ]
  },
  {
   "cell_type": "code",
   "execution_count": null,
   "metadata": {},
   "outputs": [],
   "source": []
  }
 ],
 "metadata": {
  "kernelspec": {
   "display_name": "Python 3",
   "language": "python",
   "name": "python3"
  },
  "language_info": {
   "codemirror_mode": {
    "name": "ipython",
    "version": 3
   },
   "file_extension": ".py",
   "mimetype": "text/x-python",
   "name": "python",
   "nbconvert_exporter": "python",
   "pygments_lexer": "ipython3",
   "version": "3.7.3"
  }
 },
 "nbformat": 4,
 "nbformat_minor": 2
}
